{
 "cells": [
  {
   "cell_type": "code",
   "execution_count": 2,
   "metadata": {},
   "outputs": [
    {
     "name": "stdout",
     "output_type": "stream",
     "text": [
      "Requirement already satisfied: flask in ./.venv/lib/python3.10/site-packages (3.0.2)\n",
      "Requirement already satisfied: Werkzeug>=3.0.0 in ./.venv/lib/python3.10/site-packages (from flask) (3.0.1)\n",
      "Requirement already satisfied: Jinja2>=3.1.2 in ./.venv/lib/python3.10/site-packages (from flask) (3.1.3)\n",
      "Requirement already satisfied: itsdangerous>=2.1.2 in ./.venv/lib/python3.10/site-packages (from flask) (2.1.2)\n",
      "Requirement already satisfied: click>=8.1.3 in ./.venv/lib/python3.10/site-packages (from flask) (8.1.7)\n",
      "Requirement already satisfied: blinker>=1.6.2 in ./.venv/lib/python3.10/site-packages (from flask) (1.7.0)\n",
      "Requirement already satisfied: MarkupSafe>=2.0 in ./.venv/lib/python3.10/site-packages (from Jinja2>=3.1.2->flask) (2.1.5)\n",
      "Requirement already satisfied: pandas in ./.venv/lib/python3.10/site-packages (2.2.1)\n",
      "Requirement already satisfied: numpy<2,>=1.22.4 in ./.venv/lib/python3.10/site-packages (from pandas) (1.26.4)\n",
      "Requirement already satisfied: python-dateutil>=2.8.2 in ./.venv/lib/python3.10/site-packages (from pandas) (2.8.2)\n",
      "Requirement already satisfied: pytz>=2020.1 in ./.venv/lib/python3.10/site-packages (from pandas) (2024.1)\n",
      "Requirement already satisfied: tzdata>=2022.7 in ./.venv/lib/python3.10/site-packages (from pandas) (2024.1)\n",
      "Requirement already satisfied: six>=1.5 in ./.venv/lib/python3.10/site-packages (from python-dateutil>=2.8.2->pandas) (1.16.0)\n",
      "Requirement already satisfied: scikit-learn in ./.venv/lib/python3.10/site-packages (1.4.1.post1)\n",
      "Requirement already satisfied: numpy<2.0,>=1.19.5 in ./.venv/lib/python3.10/site-packages (from scikit-learn) (1.26.4)\n",
      "Requirement already satisfied: scipy>=1.6.0 in ./.venv/lib/python3.10/site-packages (from scikit-learn) (1.12.0)\n",
      "Requirement already satisfied: joblib>=1.2.0 in ./.venv/lib/python3.10/site-packages (from scikit-learn) (1.3.2)\n",
      "Requirement already satisfied: threadpoolctl>=2.0.0 in ./.venv/lib/python3.10/site-packages (from scikit-learn) (3.3.0)\n",
      "Requirement already satisfied: joblib in ./.venv/lib/python3.10/site-packages (1.3.2)\n",
      "Requirement already satisfied: flask-ngrok in ./.venv/lib/python3.10/site-packages (0.0.25)\n",
      "Requirement already satisfied: Flask>=0.8 in ./.venv/lib/python3.10/site-packages (from flask-ngrok) (3.0.2)\n",
      "Requirement already satisfied: requests in ./.venv/lib/python3.10/site-packages (from flask-ngrok) (2.31.0)\n",
      "Requirement already satisfied: Werkzeug>=3.0.0 in ./.venv/lib/python3.10/site-packages (from Flask>=0.8->flask-ngrok) (3.0.1)\n",
      "Requirement already satisfied: Jinja2>=3.1.2 in ./.venv/lib/python3.10/site-packages (from Flask>=0.8->flask-ngrok) (3.1.3)\n",
      "Requirement already satisfied: itsdangerous>=2.1.2 in ./.venv/lib/python3.10/site-packages (from Flask>=0.8->flask-ngrok) (2.1.2)\n",
      "Requirement already satisfied: click>=8.1.3 in ./.venv/lib/python3.10/site-packages (from Flask>=0.8->flask-ngrok) (8.1.7)\n",
      "Requirement already satisfied: blinker>=1.6.2 in ./.venv/lib/python3.10/site-packages (from Flask>=0.8->flask-ngrok) (1.7.0)\n",
      "Requirement already satisfied: charset-normalizer<4,>=2 in ./.venv/lib/python3.10/site-packages (from requests->flask-ngrok) (3.3.2)\n",
      "Requirement already satisfied: idna<4,>=2.5 in ./.venv/lib/python3.10/site-packages (from requests->flask-ngrok) (3.6)\n",
      "Requirement already satisfied: urllib3<3,>=1.21.1 in ./.venv/lib/python3.10/site-packages (from requests->flask-ngrok) (2.2.1)\n",
      "Requirement already satisfied: certifi>=2017.4.17 in ./.venv/lib/python3.10/site-packages (from requests->flask-ngrok) (2024.2.2)\n",
      "Requirement already satisfied: MarkupSafe>=2.0 in ./.venv/lib/python3.10/site-packages (from Jinja2>=3.1.2->Flask>=0.8->flask-ngrok) (2.1.5)\n"
     ]
    }
   ],
   "source": [
    "!pip3 install flask\n",
    "!pip3 install pandas\n",
    "!pip3 install scikit-learn\n",
    "!pip3 install joblib\n",
    "!pip3 install flask-ngrok"
   ]
  },
  {
   "cell_type": "code",
   "execution_count": 3,
   "metadata": {},
   "outputs": [],
   "source": [
    "import pandas as pd\n",
    "import numpy as np\n",
    "from flask import Flask, request, jsonify, render_template\n",
    "from sklearn.feature_extraction.text import CountVectorizer\n",
    "from sklearn.model_selection import train_test_split\n",
    "from sklearn.svm import SVC\n",
    "from sklearn.metrics import classification_report, confusion_matrix\n",
    "import joblib\n",
    "from flask_ngrok import run_with_ngrok # Import the flask_ngrok library\n"
   ]
  },
  {
   "cell_type": "code",
   "execution_count": 4,
   "metadata": {},
   "outputs": [
    {
     "name": "stdout",
     "output_type": "stream",
     "text": [
      "0        <li><a href=\"/wiki/File:Socrates.png\" class=\"i...\n",
      "1                     <tt onmouseover=\"alert(1)\">test</tt>\n",
      "2        \\t </span> <span class=\"reference-text\">Steeri...\n",
      "3        \\t </span> <span class=\"reference-text\"><cite ...\n",
      "4        \\t </span>. <a href=\"/wiki/Digital_object_iden...\n",
      "                               ...                        \n",
      "13681               <img onpointerenter=alert(1)>XSS</img>\n",
      "13682    <source onbeforepaste=\"alert(1)\" contenteditab...\n",
      "13683    <div draggable=\"true\" contenteditable>drag me<...\n",
      "13684    <li><cite id=\"CITEREFDomingos2015\" class=\"cita...\n",
      "13685                                           \\t </span>\n",
      "Name: Sentence, Length: 13686, dtype: object\n"
     ]
    },
    {
     "data": {
      "text/plain": [
       "['xss_detection_model.joblib']"
      ]
     },
     "execution_count": 4,
     "metadata": {},
     "output_type": "execute_result"
    }
   ],
   "source": [
    "# Load the dataset\n",
    "# Replace 'path_to_dataset' with the path where you have downloaded 'XSS_dataset.csv'\n",
    "data = pd.read_csv('XSS_dataset.csv')\n",
    "\n",
    "# Splitting data into features and target\n",
    "X = data['Sentence']\n",
    "y = data['Label']\n",
    "\n",
    "print(X)\n",
    "\n",
    "\n",
    "\n",
    "# Vectorizing the text data\n",
    "vectorizer = CountVectorizer()\n",
    "X = vectorizer.fit_transform(X)\n",
    "\n",
    "# Splitting data into train and test sets\n",
    "X_train, X_test, y_train, y_test = train_test_split(X, y, test_size=0.2, random_state=42)\n",
    "\n",
    "# Training the model\n",
    "model = SVC(kernel='linear')\n",
    "model.fit(X_train, y_train)\n",
    "\n",
    "# Save the model\n",
    "joblib.dump(model, 'xss_detection_model.joblib')\n"
   ]
  },
  {
   "cell_type": "code",
   "execution_count": 5,
   "metadata": {},
   "outputs": [
    {
     "name": "stdout",
     "output_type": "stream",
     "text": [
      " * Serving Flask app '__main__'\n",
      " * Debug mode: off\n"
     ]
    },
    {
     "name": "stderr",
     "output_type": "stream",
     "text": [
      "\u001b[31m\u001b[1mWARNING: This is a development server. Do not use it in a production deployment. Use a production WSGI server instead.\u001b[0m\n",
      " * Running on http://127.0.0.1:5000\n",
      "\u001b[33mPress CTRL+C to quit\u001b[0m\n",
      "127.0.0.1 - - [29/Feb/2024 02:10:38] \"GET / HTTP/1.1\" 200 -\n",
      "127.0.0.1 - - [29/Feb/2024 02:10:41] \"POST /predict HTTP/1.1\" 200 -\n"
     ]
    },
    {
     "name": "stdout",
     "output_type": "stream",
     "text": [
      "0\n"
     ]
    },
    {
     "name": "stderr",
     "output_type": "stream",
     "text": [
      "127.0.0.1 - - [29/Feb/2024 02:10:42] \"GET / HTTP/1.1\" 200 -\n",
      "127.0.0.1 - - [29/Feb/2024 02:11:14] \"POST /predict HTTP/1.1\" 200 -\n",
      "127.0.0.1 - - [29/Feb/2024 02:11:15] \"GET / HTTP/1.1\" 200 -\n",
      "127.0.0.1 - - [29/Feb/2024 02:11:18] \"POST /predict HTTP/1.1\" 200 -\n",
      "127.0.0.1 - - [29/Feb/2024 02:11:20] \"GET / HTTP/1.1\" 200 -\n"
     ]
    }
   ],
   "source": [
    "!export FLASK_ENV=development\n",
    "import pdb\n",
    "\n",
    "app = Flask(__name__)\n",
    "\n",
    "# Load the model\n",
    "model = joblib.load('xss_detection_model.joblib')\n",
    "\n",
    "# Add the run_with_ngrok(app) function to tunnel the app to a public URL\n",
    "\n",
    "@app.route('/')\n",
    "def home():\n",
    "    return render_template('index.html')\n",
    "\n",
    "@app.route('/predict', methods=['POST'])\n",
    "def predict():\n",
    "    if request.method == 'POST':\n",
    "        text = request.form['text']\n",
    "        text_vectorized = vectorizer.transform([text])\n",
    "        # pdb.set_trace()  # Set a breakpoint here\n",
    "        prediction = model.predict(text_vectorized)\n",
    "        if prediction[0] == 1:\n",
    "            result = 'XSS Attack Detected!'\n",
    "        else:\n",
    "            print(prediction[0])\n",
    "            result = 'No XSS Attack Detected'\n",
    "        return render_template('result.html', result=result)\n",
    "        \n",
    "if __name__ == '__main__':\n",
    "    # Use the app.run(debug=True) method to run the app in debug mode\n",
    "    app.run()"
   ]
  }
 ],
 "metadata": {
  "kernelspec": {
   "display_name": "Python 3",
   "language": "python",
   "name": "python3"
  },
  "language_info": {
   "codemirror_mode": {
    "name": "ipython",
    "version": 3
   },
   "file_extension": ".py",
   "mimetype": "text/x-python",
   "name": "python",
   "nbconvert_exporter": "python",
   "pygments_lexer": "ipython3",
   "version": "3.10.12"
  }
 },
 "nbformat": 4,
 "nbformat_minor": 2
}
